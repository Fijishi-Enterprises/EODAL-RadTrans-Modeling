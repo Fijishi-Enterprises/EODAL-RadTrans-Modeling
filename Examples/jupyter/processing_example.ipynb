{
 "cells": [
  {
   "cell_type": "markdown",
   "metadata": {},
   "source": [
    "# Example: Invert multiple Sentinel scenes"
   ]
  },
  {
   "cell_type": "markdown",
   "metadata": {},
   "source": [
    "In this example, several Sentinel-2 scenes are inverted for two crops types (winter wheat and maize) using five agricultural field plots in Southern Germany for the year 2017. The necessary input data is provided in the data folder and consists of\n",
    "\n",
    "- a ESRI shapefile containing the field boundaries as well as their land cover\n",
    "- a list of cloud-free acquisition dates in 2017, compiled from Google Earth Engine (query see below)\n",
    "- a config file for ProSAIL and the land cover classes that you should copy to your **OBIA4RTM** home directory\n",
    "\n",
    "Using this configurations and data you will be able to derive crop-type specific parameters for 13 acquisition dates.\n",
    "\n",
    "First, we will setup the necessary environment by important the **OBIA4RTM.processing_api** and importing the datasets. Make sure to have copied the content of the *../data/OBIA4RTM_CFG* folder to your OBIA4RTM home directory.\n",
    "\n",
    "You can find out the location of the OBIA4RTM home directory by typing:"
   ]
  },
  {
   "cell_type": "code",
   "execution_count": 1,
   "metadata": {},
   "outputs": [
    {
     "name": "stdout",
     "output_type": "stream",
     "text": [
      "The OBIA4RTM home is: '/home/lukas/OBIA4RTM'\n"
     ]
    }
   ],
   "source": [
    "from OBIA4RTM.processing_api import API\n",
    "api = API(use_gee=True)\n",
    "api.get_OBIA4RTM_home()"
   ]
  },
  {
   "cell_type": "markdown",
   "metadata": {},
   "source": [
    "## Preprocessing"
   ]
  },
  {
   "cell_type": "markdown",
   "metadata": {},
   "source": [
    "After having things ready, we can start with the **pre-processing**.\n",
    "In this example, we will use Google-Earth-Engine (make sure to have a valid account and a working Python API) for doing the atmospheric correction using the 6S model. First, we need to important the data into Python."
   ]
  },
  {
   "cell_type": "code",
   "execution_count": 5,
   "metadata": {},
   "outputs": [],
   "source": [
    "from OBIA4RTM.processing_api import API\n",
    "import pandas as pd\n",
    "\n",
    "\n",
    "# Google Earth Engine will be used for pre-processing the Sentinel-2 imagery\n",
    "use_gee = True\n",
    "# create a new API instance to handle the processing\n",
    "api = API(use_gee)\n",
    "# set the tablenames accordingly to allow OBIA4RTM to store the results in the\n",
    "# PostgreSQL/PostGIS backend database\n",
    "api.set_tablenames()\n",
    "\n",
    "# setup the parameters controlling the preprocessing:\n",
    "# this includes the acquisition dates as well as the geometry of the field\n",
    "# parcels for which the inversion should be conducted and the way the\n",
    "# atmospherical correction algorithm should be carried out\n",
    "\n",
    "# the geometry of the bounding box in which the field parcels are located\n",
    "# in lat/lon coordinates in decimal degrees\n",
    "geom = [[11.652010083396522,48.24900906966563],\n",
    "        [11.745054408435749,48.24667656534854],\n",
    "        [11.748327321488217,48.31192435113173],\n",
    "        [11.655723673233638,48.314324706548085],\n",
    "        [11.652010083396522,48.24900906966563]]\n",
    "\n",
    "# the acquisition dates were previously determined using Google Earth Engine\n",
    "# searching for available Sentinel-2 scenes in 2017 covering the vegetation\n",
    "# period which had a cloud coverage less than 20 percent\n",
    "# the acquisition dates are stored in a ASCII-file and are read from it\n",
    "filepath = r'../data/Acqui_Dates/acquisition_dates'\n",
    "df = pd.read_csv(filepath, sep=\":\", header=None)\n",
    "acqui_dates = df[[1]] # extract the acquisition dates\n",
    "\n",
    "# Shapefile with the field parcel boundaries\n",
    "shp = r'..data/SHP/2017_Multiply_Sample_Area.shp'"
   ]
  },
  {
   "cell_type": "markdown",
   "metadata": {},
   "source": [
    "## Atmospheric Correction"
   ]
  },
  {
   "cell_type": "markdown",
   "metadata": {},
   "source": [
    "If this yields no error message, then everything is ready to start the atmospheric correction to bring the data into L2 level and mask out clouds and cloud shadows. Moreover, the spectra will be extracted at the object level and stored for each acquisition date in the OBIA4RTM backend database:"
   ]
  },
  {
   "cell_type": "code",
   "execution_count": null,
   "metadata": {},
   "outputs": [],
   "source": [
    "# Option for cloud masking and shadow detection after atmospherical correction\n",
    "# -> use method provided by Sam Murphy (Option = 2)\n",
    "option = 2\n",
    "\n",
    "# empty dict for storing the retrieved scene ids from the imagery\n",
    "mapping = dict()\n",
    "\n",
    "# loop over the acquisition dates to pre-process the images and extract the\n",
    "# spectra\n",
    "for ii in range(acqui_dates.shape[0]):\n",
    "    # get the current acquisition date ('YYYY-MM-DD')\n",
    "    acqui_date = acqui_dates.iloc[ii].values[0].strip()\n",
    "    # call gee_preprocessing -> returns scene_id from Sentinel-2 imagery\n",
    "    scene_id = api.do_gee_preprocessing(geom,\n",
    "                                        acqui_date,\n",
    "                                        option,\n",
    "                                        shp)\n",
    "    mapping.update({scene_id : acqui_date})"
   ]
  },
  {
   "cell_type": "markdown",
   "metadata": {},
   "source": [
    "## Inversion"
   ]
  },
  {
   "cell_type": "markdown",
   "metadata": {},
   "source": [
    "After this snippet is finished (remember to have a constant internet connection), you can invert the processed scenes. Please note that this can take a couple of a hours as the databases *INSERTS* are relatively time-consuming in the current implementation of the programme..."
   ]
  },
  {
   "cell_type": "code",
   "execution_count": null,
   "metadata": {},
   "outputs": [],
   "source": [
    "# use the best 10 solutions (mean)\n",
    "num_best_solutions = 10\n",
    "# do the inversion for the LUT classes 0 (bare soil) 1 (maize silage) and 2 (winter wheat)\n",
    "luc_classes = [0, 1]\n",
    "for ii in range(9, df.shape[0]): #acqui_dates.shape[0]):\n",
    "    # get scene id\n",
    "    scene_id = next(iter( mapping.items() ))[0]\n",
    "    # get an instance of the inversion interface provided by processing API\n",
    "    # and run it; return the inverted spectra\n",
    "    status = api.do_inversion(scene_id, num_best_solutions, luc_classes,\n",
    "                     return_specs=True)"
   ]
  }
 ],
 "metadata": {
  "kernelspec": {
   "display_name": "Python 3",
   "language": "python",
   "name": "python3"
  },
  "language_info": {
   "codemirror_mode": {
    "name": "ipython",
    "version": 3
   },
   "file_extension": ".py",
   "mimetype": "text/x-python",
   "name": "python",
   "nbconvert_exporter": "python",
   "pygments_lexer": "ipython3",
   "version": "3.6.9"
  }
 },
 "nbformat": 4,
 "nbformat_minor": 2
}
