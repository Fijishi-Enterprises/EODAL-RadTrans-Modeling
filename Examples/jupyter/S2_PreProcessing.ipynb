{
 "cells": [
  {
   "cell_type": "markdown",
   "metadata": {},
   "source": [
    "# Atmospheric Correction in OBIA4RTM using Google Earth Engine and 6S"
   ]
  },
  {
   "cell_type": "markdown",
   "metadata": {},
   "source": [
    "This notebook shows how to use Google-Earth-Engine (GEE) and the 6S algorithm (REFERENCE!) to correct Sentinel-2 imagery for atmospheric effects and convert to **`surface reflectance values`**. Moreover, a **`cloud mask and a cloud shadow mask`** is computed using code made avialable by Sam Murphy under Apache 2.0 license (https://github.com/samsammurphy).\n",
    "\n",
    "This functionality is part of the **optional pre-processing facilities** offered by OBIA4RTM. The reason for including such functionalities is based on the fact that a tool that claims to be **operational** clearly requires **integrated image pre-processing chains** that make use of **state-of-the-art methods** in a **highly efficient way**.\n",
    "\n",
    "Of course, **users of OBIA4RTM are not forced to use this offer** as also user-defined and processed Sentinel-2 files can be provided to the software (however, atmospheric correction then needs to be done by the user as well). By using GEE, however, there are some distinct advantages:\n",
    "\n",
    "- no download of imagery\n",
    "- the computationally intensive part of the image correction is done on the GEE cloud\n",
    "\n",
    "Of course, this also has some trade-offs. GEE is a commercial solution and propietary to Google. Therefore, it is not guaranteed that the API will be available and maintained in the future. Also the business model might change.\n",
    "\n",
    "**`NOTE: If you don't want to use GEE, then please skip this notebook.`**\n",
    "\n",
    "Moreover, the installation of the GEE client API and the 6S software might be time-consuming and is not recommended to unexperienced users.\n",
    "\n",
    "Therefore, there is always this *traditional* workflow with user-provided files possible in OBIA4RTM."
   ]
  },
  {
   "cell_type": "markdown",
   "metadata": {},
   "source": [
    "## Checking if everything is working"
   ]
  },
  {
   "cell_type": "markdown",
   "metadata": {},
   "source": [
    "Try to import the according **`OBIA4RTM`** module to perform the atmospheric correction"
   ]
  },
  {
   "cell_type": "code",
   "execution_count": 1,
   "metadata": {},
   "outputs": [],
   "source": [
    "from OBIA4RTM.S2_PreProcessor.s2_Py6S_attcor import s2_Py6S_atcorr"
   ]
  },
  {
   "cell_type": "markdown",
   "metadata": {},
   "source": [
    "Make also sure to have **Google Earth Engine Python API** installed and have the required credentials. In case you get an error you have to follow these instructions: https://developers.google.com/earth-engine/python_install"
   ]
  },
  {
   "cell_type": "code",
   "execution_count": 2,
   "metadata": {},
   "outputs": [],
   "source": [
    "import ee\n",
    "ee.Initialize()"
   ]
  },
  {
   "cell_type": "markdown",
   "metadata": {},
   "source": [
    "Moreover, it is necessary to check if **Py6S** (the Python wrapper around Py6S) is working. Therefore, you can try the following test (taken from https://py6s.readthedocs.io/en/latest/installation.html where you can also find some more hints about the installation of Py6S):"
   ]
  },
  {
   "cell_type": "code",
   "execution_count": 3,
   "metadata": {},
   "outputs": [
    {
     "name": "stdout",
     "output_type": "stream",
     "text": [
      "6S wrapper script by Robin Wilson\n",
      "Using 6S located at /usr/local/bin/sixs\n",
      "Running 6S using a set of test parameters\n",
      "6sV version: 1.1\n",
      "The results are:\n",
      "Expected result: 619.158000\n",
      "Actual result: 619.158000\n",
      "#### Results agree, Py6S is working correctly\n"
     ]
    },
    {
     "data": {
      "text/plain": [
       "0"
      ]
     },
     "execution_count": 3,
     "metadata": {},
     "output_type": "execute_result"
    }
   ],
   "source": [
    "import Py6S\n",
    "Py6S.SixS.test()"
   ]
  },
  {
   "cell_type": "markdown",
   "metadata": {},
   "source": [
    "If that produces an error (something like *6S executable not found*) you can do the following:\n",
    "\n",
    "- make sure that you run OBIA4RTM.PreProcessor.install_6S and it terminated without error messages\n",
    "\n",
    "- if that is/ was the case, then the problem is related to the system path. Most likely, OBIA4RTM is not able to find the 6S executable. Per Default OBIA4RTM.PreProcessor.install_6S builds and installs 6S to the OBIA4RTM user directory. You can find the OBIA4RTM user directory (where also all the config files are stored) via:"
   ]
  },
  {
   "cell_type": "code",
   "execution_count": null,
   "metadata": {},
   "outputs": [],
   "source": [
    "import OBIA4RTM\n",
    "import os\n",
    "# get the user-directory of OBIA4RTM\n",
    "with open(os.path.dirname(OBIA4RTM.__file__) + os.sep + 'OBIA4RTM_HOME') as data:\n",
    "    info = data.readline()\n",
    "# info contains the desired user-directory\n",
    "print('OBIA4RTM Directory: {}'.format(info))"
   ]
  },
  {
   "cell_type": "markdown",
   "metadata": {},
   "source": [
    "In this directory, a sub-folder should contain the 6S code and the executable Py6S is searching for. It should be found this way:"
   ]
  },
  {
   "cell_type": "code",
   "execution_count": null,
   "metadata": {},
   "outputs": [],
   "source": [
    "sixS_dir = info + os.sep + 'sixS' + os.sep + 'src' + os.sep + '6SV1.1'\n",
    "print('Directory containing the 6S executable: {}'.format(sixS_dir))"
   ]
  },
  {
   "cell_type": "markdown",
   "metadata": {},
   "source": [
    "Go this directory and look for the executable. The executable will be **`sixsV1.1`** on Unix\\OS X system an **`sixsV1.1.exe`** on Windows.\n",
    "\n",
    "No either copy this executable to a location that is part of your **`System\\Path`** **OR** create a **`symbolic link (recommended for Unix/OS X)`** by opening a terminal in the directory of the executable and typing in:\n",
    "\n",
    "```{sh}\n",
    "$ sudo ln sixsV1.1 /usr/local/bin/sixs\n",
    "```\n"
   ]
  },
  {
   "cell_type": "markdown",
   "metadata": {},
   "source": [
    "On **Windows** you can also create a symbolic link (never tested from my side) by opening the cmd window and typing in:\n",
    "```{sh}\n",
    "$ MKLINK sixsV1.1.exe C:\\Windows\\System\n",
    "```"
   ]
  },
  {
   "cell_type": "markdown",
   "metadata": {},
   "source": [
    "Set up a new atcorr object to be able to run the 6S algorithm on a user-defined geometry and a user-defined date (Google Earth-Engine will then search for the proper Sentinel-2 scene)"
   ]
  },
  {
   "cell_type": "markdown",
   "metadata": {},
   "source": [
    "## Executing the atmospheric correction using GEE and the 6S algorithm"
   ]
  },
  {
   "cell_type": "code",
   "execution_count": 4,
   "metadata": {},
   "outputs": [],
   "source": [
    "# determine geometry and date first\n",
    "# in this example, a polygon covering the northern Alps in Souhtern Germany/ Tyrol will be used\n",
    "geom = ee.Geometry.Polygon(\n",
    "  [[11, 48], [12, 48], [12, 48.5], [11, 48.5], [11, 48.5]]\n",
    ")\n",
    "date = \"2017-07-06\"\n",
    "# create an class instance of the s2_Py6S_atcorr class in OBIA4RTM\n",
    "at = s2_Py6S_atcorr()\n",
    "# now run the 6S algorithm for the selected region and time on Sentinel-2 imagery\n",
    "# you will get back the surface reflectance of the input that was top-of-atmosphere (L1 level)\n",
    "S2_surf = at.run_py6s(geom, date)"
   ]
  },
  {
   "cell_type": "markdown",
   "metadata": {},
   "source": [
    "The output of the above code snippet should be a Google Earth Engine image.Image containing Sentinel-2 atmospherically surface reflectance values. To check this run:"
   ]
  },
  {
   "cell_type": "code",
   "execution_count": 5,
   "metadata": {},
   "outputs": [
    {
     "data": {
      "text/plain": [
       "['B2',\n",
       " 'B3',\n",
       " 'B4',\n",
       " 'B5',\n",
       " 'B6',\n",
       " 'B7',\n",
       " 'B8A',\n",
       " 'B11',\n",
       " 'B12',\n",
       " 'CloudMask',\n",
       " 'ShadowMask']"
      ]
     },
     "execution_count": 5,
     "metadata": {},
     "output_type": "execute_result"
    }
   ],
   "source": [
    "# This should print the image's band names\n",
    "# if everything is OK, it should output B2, B3, B4, B5, B6, B7, B8A, B11, B12, CloudMask, ShadowMask\n",
    "S2_surf.bandNames().getInfo()"
   ]
  },
  {
   "cell_type": "markdown",
   "metadata": {},
   "source": [
    "## Display the results"
   ]
  },
  {
   "cell_type": "markdown",
   "metadata": {},
   "source": [
    "**`Reflectance Values`**"
   ]
  },
  {
   "cell_type": "code",
   "execution_count": 7,
   "metadata": {},
   "outputs": [
    {
     "data": {
      "text/html": [
       "<img src=\"https://earthengine.googleapis.com/api/thumb?thumbid=352cde6db51701df7da124091b289ba4&token=300fbf3e5155ab3a3c6820e14cde2901\"/>"
      ],
      "text/plain": [
       "<IPython.core.display.Image object>"
      ]
     },
     "metadata": {},
     "output_type": "display_data"
    },
    {
     "data": {
      "text/html": [
       "<img src=\"https://earthengine.googleapis.com/api/thumb?thumbid=c95585c5ccf8f39e52f665cc8ceade46&token=d263d4a57a2654d5f3848fcf38086193\"/>"
      ],
      "text/plain": [
       "<IPython.core.display.Image object>"
      ]
     },
     "metadata": {},
     "output_type": "display_data"
    }
   ],
   "source": [
    "from IPython.display import display, Image\n",
    "\n",
    "region = geom.buffer(5000).bounds().getInfo()['coordinates']\n",
    "channels = ['B4','B3','B2']\n",
    "\n",
    "# convert to % reflectance\n",
    "original = Image(url=at.S2.select(channels).getThumbUrl({\n",
    "                'region':region,\n",
    "                'min':0,\n",
    "                'max':0.5\n",
    "                }))\n",
    "\n",
    "corrected = Image(url=S2_surf.select(channels).getThumbUrl({\n",
    "                'region':region,\n",
    "                'min':0,\n",
    "                'max':0.5\n",
    "                }))\n",
    "\n",
    "display(original, corrected)"
   ]
  },
  {
   "cell_type": "markdown",
   "metadata": {},
   "source": [
    "**`Cloud and Shadow Masks`**"
   ]
  },
  {
   "cell_type": "code",
   "execution_count": 8,
   "metadata": {},
   "outputs": [
    {
     "data": {
      "text/html": [
       "<img src=\"https://earthengine.googleapis.com/api/thumb?thumbid=39897bcda89e6db4ee53bf7d6b9ee2fd&token=9e218f6eab981d9461a13206ae5f067e\"/>"
      ],
      "text/plain": [
       "<IPython.core.display.Image object>"
      ]
     },
     "metadata": {},
     "output_type": "display_data"
    },
    {
     "data": {
      "text/html": [
       "<img src=\"https://earthengine.googleapis.com/api/thumb?thumbid=99806e6af9bdc525eb5bbccbf2365d5c&token=544ac3061300777eb091a1a46ff04d87\"/>"
      ],
      "text/plain": [
       "<IPython.core.display.Image object>"
      ]
     },
     "metadata": {},
     "output_type": "display_data"
    }
   ],
   "source": [
    "# Display the cloud mask and the shadow mask\n",
    "cm = Image(url=at.S2.select('CloudMask').getThumbUrl({\n",
    "                'region':region\n",
    "                }))\n",
    "\n",
    "sm = Image(url=at.S2.select('ShadowMask').getThumbUrl({\n",
    "                'region':region\n",
    "                }))\n",
    "\n",
    "display(cm, sm)"
   ]
  },
  {
   "cell_type": "code",
   "execution_count": null,
   "metadata": {},
   "outputs": [],
   "source": []
  }
 ],
 "metadata": {
  "kernelspec": {
   "display_name": "Python 3",
   "language": "python",
   "name": "python3"
  },
  "language_info": {
   "codemirror_mode": {
    "name": "ipython",
    "version": 3
   },
   "file_extension": ".py",
   "mimetype": "text/x-python",
   "name": "python",
   "nbconvert_exporter": "python",
   "pygments_lexer": "ipython3",
   "version": "3.6.8"
  }
 },
 "nbformat": 4,
 "nbformat_minor": 2
}
